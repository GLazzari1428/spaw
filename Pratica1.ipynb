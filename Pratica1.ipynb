{
  "cells": [
    {
      "cell_type": "markdown",
      "metadata": {
        "id": "2VyWTT6rTZGW"
      },
      "source": [
        "# Pratica Dissecação PCAP\n",
        "\n",
        "Através do SCAPY e Wireshark, realize as atividades a seguir"
      ]
    },
    {
      "cell_type": "code",
      "execution_count": null,
      "metadata": {
        "id": "oMoZ6DMLTZGY",
        "colab": {
          "base_uri": "https://localhost:8080/"
        },
        "outputId": "948196ec-beb0-4d56-f246-6fc4876ac4a5"
      },
      "outputs": [
        {
          "output_type": "stream",
          "name": "stdout",
          "text": [
            "Collecting scapy\n",
            "  Downloading scapy-2.5.0.tar.gz (1.3 MB)\n",
            "\u001b[?25l     \u001b[90m━━━━━━━━━━━━━━━━━━━━━━━━━━━━━━━━━━━━━━━━\u001b[0m \u001b[32m0.0/1.3 MB\u001b[0m \u001b[31m?\u001b[0m eta \u001b[36m-:--:--\u001b[0m\r\u001b[2K     \u001b[91m━━━━━━\u001b[0m\u001b[90m╺\u001b[0m\u001b[90m━━━━━━━━━━━━━━━━━━━━━━━━━━━━━━━━━\u001b[0m \u001b[32m0.2/1.3 MB\u001b[0m \u001b[31m6.0 MB/s\u001b[0m eta \u001b[36m0:00:01\u001b[0m\r\u001b[2K     \u001b[91m━━━━━━━━━━━━━━━━━━━━━━━━━━━━━━━━━━━━━━━\u001b[0m\u001b[91m╸\u001b[0m \u001b[32m1.3/1.3 MB\u001b[0m \u001b[31m20.4 MB/s\u001b[0m eta \u001b[36m0:00:01\u001b[0m\r\u001b[2K     \u001b[90m━━━━━━━━━━━━━━━━━━━━━━━━━━━━━━━━━━━━━━━━\u001b[0m \u001b[32m1.3/1.3 MB\u001b[0m \u001b[31m17.0 MB/s\u001b[0m eta \u001b[36m0:00:00\u001b[0m\n",
            "\u001b[?25h  Preparing metadata (setup.py) ... \u001b[?25l\u001b[?25hdone\n",
            "Building wheels for collected packages: scapy\n",
            "  Building wheel for scapy (setup.py) ... \u001b[?25l\u001b[?25hdone\n",
            "  Created wheel for scapy: filename=scapy-2.5.0-py2.py3-none-any.whl size=1444328 sha256=46a1c936248ac744c68b55465d45d7ca4d320d5a7aebd144241746b41633755a\n",
            "  Stored in directory: /root/.cache/pip/wheels/82/b7/03/8344d8cf6695624746311bc0d389e9d05535ca83c35f90241d\n",
            "Successfully built scapy\n",
            "Installing collected packages: scapy\n",
            "Successfully installed scapy-2.5.0\n"
          ]
        }
      ],
      "source": [
        "!pip install scapy"
      ]
    },
    {
      "cell_type": "code",
      "execution_count": null,
      "metadata": {
        "id": "59yvhh9yTZGZ",
        "colab": {
          "base_uri": "https://localhost:8080/"
        },
        "outputId": "4ff92d21-243b-459e-b3ea-084152a03851"
      },
      "outputs": [
        {
          "output_type": "stream",
          "name": "stdout",
          "text": [
            "Downloading...\n",
            "From: https://drive.google.com/uc?id=1WBevnCjhCJ1lQJuyTKMDVD1LbgHmKxvN\n",
            "To: /content/sample.pcapng\n",
            "100% 12.2M/12.2M [00:00<00:00, 86.7MB/s]\n"
          ]
        }
      ],
      "source": [
        "#Efetua download do arquivo pcap\n",
        "!gdown 1WBevnCjhCJ1lQJuyTKMDVD1LbgHmKxvN"
      ]
    },
    {
      "cell_type": "code",
      "execution_count": null,
      "metadata": {
        "id": "Lh_wz-HzTZGa"
      },
      "outputs": [],
      "source": [
        "# Espaço para realizar os exemplos com o professor =)\n",
        "import os\n",
        "from scapy.all import *\n",
        "\n",
        "packets = sniff(offline='/content/sample.pcapng')"
      ]
    },
    {
      "cell_type": "code",
      "execution_count": null,
      "metadata": {
        "id": "NgKvhMp8TZGb"
      },
      "outputs": [],
      "source": [
        "req=0\n",
        "rep=0\n",
        "for i in range(1,len(packets)):\n",
        "  if packets[i].haslayer(ARP):\n",
        "    if packets[i]['ARP'].op == 1:\n",
        "      req+=1\n",
        "    else:\n",
        "      rep+=1\n",
        "\n",
        "print(f'{req} packets sao request e {rep} sao replies')"
      ]
    },
    {
      "cell_type": "code",
      "execution_count": null,
      "metadata": {
        "id": "Ou_2Ln1BTZGb"
      },
      "outputs": [],
      "source": [
        "tcp = 0\n",
        "\n",
        "for pkt in packets:\n",
        "  if TCP in pkt:\n",
        "    tcp +=1\n",
        "print(tcp)"
      ]
    },
    {
      "cell_type": "code",
      "execution_count": null,
      "metadata": {
        "id": "YD76b426TZGb",
        "colab": {
          "base_uri": "https://localhost:8080/"
        },
        "outputId": "132c95e0-8bdc-4772-b8ca-c285a04e85df"
      },
      "outputs": [
        {
          "output_type": "stream",
          "name": "stdout",
          "text": [
            "2847\n"
          ]
        }
      ],
      "source": [
        "http = 0\n",
        "i = 0\n",
        "for i in range(1,len(packets)):\n",
        "  if packets[i].haslayer(TCP):\n",
        "    if packets[i]['TCP'].flags.PA == True:\n",
        "      http+=1\n",
        "    else:\n",
        "      pass\n",
        "print(http)"
      ]
    },
    {
      "cell_type": "code",
      "execution_count": null,
      "metadata": {
        "id": "Nl9ISZONTZGb"
      },
      "outputs": [],
      "source": [
        "packets[1536].show()"
      ]
    },
    {
      "cell_type": "code",
      "execution_count": null,
      "metadata": {
        "id": "K6Cd-mXtTZGb"
      },
      "outputs": [],
      "source": [
        "packets[1538].show()"
      ]
    },
    {
      "cell_type": "code",
      "execution_count": null,
      "metadata": {
        "id": "hyxTwYvZTZGb"
      },
      "outputs": [],
      "source": []
    },
    {
      "cell_type": "markdown",
      "metadata": {
        "id": "Opcsaq5KTZGb"
      },
      "source": [
        "### Pratica 1 - Interpretação de Protocolos\n",
        "\n",
        "Considerando o PCAP (/home/dados/ParsePCAP/sample.pcapng), determine as informações solicitadas\n",
        "\n",
        "1. Quantidade de ARP Requests\n",
        "2. Quantidade de ARP Replies\n",
        "3. Quantidade de pacotes TCP\n",
        "4. Quantidade de pacotes relacionados a HTTP\n",
        "5. Quantidade de queries HTTP get\n",
        "6. Quantidade de novas conexões SSH\n",
        "7. Quantidade de requisições DNS\n",
        "8. Usuários logados em sessão telnet\n",
        "9. Quantidade de protocolos de aplicação distintos\n",
        "10. Ataques de rede"
      ]
    },
    {
      "cell_type": "code",
      "execution_count": null,
      "metadata": {
        "id": "4DMfIlPxTZGb"
      },
      "outputs": [],
      "source": [
        "import os\n",
        "from scapy.all import *\n",
        "\n",
        "packets = sniff(offline='/content/sample.pcapng')"
      ]
    },
    {
      "cell_type": "code",
      "execution_count": null,
      "metadata": {
        "id": "MgqUbTKSTZGb"
      },
      "outputs": [],
      "source": [
        "# 1. Quantidade de ARP Requests\n"
      ]
    },
    {
      "cell_type": "code",
      "execution_count": null,
      "metadata": {
        "id": "txn0M8bgTZGc",
        "colab": {
          "base_uri": "https://localhost:8080/"
        },
        "outputId": "90a13709-7ed2-4480-fa77-9763d7e58346"
      },
      "outputs": [
        {
          "output_type": "stream",
          "name": "stdout",
          "text": [
            "88 packets sao request \n"
          ]
        }
      ],
      "source": [
        "req=0\n",
        "for pkt in packets:\n",
        "  if ARP in pkt:\n",
        "    if pkt.op == 1:\n",
        "      req+=1\n",
        "\n",
        "print(f'{req} packets sao request ')"
      ]
    },
    {
      "cell_type": "code",
      "execution_count": null,
      "metadata": {
        "id": "-vgJ1QmZTZGc"
      },
      "outputs": [],
      "source": []
    },
    {
      "cell_type": "code",
      "execution_count": null,
      "metadata": {
        "id": "In4TkXlSTZGc"
      },
      "outputs": [],
      "source": [
        "# 2. Quantidade de ARP Replies\n"
      ]
    },
    {
      "cell_type": "code",
      "execution_count": null,
      "metadata": {
        "id": "FSw-o6EcTZGc",
        "colab": {
          "base_uri": "https://localhost:8080/"
        },
        "outputId": "cbd3eb6b-94ce-4fc6-a776-7ae5b905195d"
      },
      "outputs": [
        {
          "output_type": "stream",
          "name": "stdout",
          "text": [
            "81 packets sao replies\n"
          ]
        }
      ],
      "source": [
        "rep=0\n",
        "for pkt in packets:\n",
        "  if ARP in pkt:\n",
        "    if pkt.op == 2:\n",
        "      rep +=1\n",
        "print(f'{rep} packets sao replies')"
      ]
    },
    {
      "cell_type": "code",
      "execution_count": null,
      "metadata": {
        "id": "QPq-RLQLTZGc"
      },
      "outputs": [],
      "source": []
    },
    {
      "cell_type": "code",
      "execution_count": null,
      "metadata": {
        "id": "uWBzaJzpTZGc"
      },
      "outputs": [],
      "source": [
        "# 3. Quantidade de pacotes TCP\n"
      ]
    },
    {
      "cell_type": "code",
      "execution_count": null,
      "metadata": {
        "id": "DJq5z_6GTZGc",
        "colab": {
          "base_uri": "https://localhost:8080/"
        },
        "outputId": "1144f0a3-8853-40bf-cc76-596bf620d521"
      },
      "outputs": [
        {
          "output_type": "stream",
          "name": "stdout",
          "text": [
            "8374 Pacotes tcp\n"
          ]
        }
      ],
      "source": [
        "tcp = 0\n",
        "\n",
        "for pkt in packets:\n",
        "  if TCP in pkt:\n",
        "    tcp +=1\n",
        "print(tcp, 'Pacotes tcp')"
      ]
    },
    {
      "cell_type": "code",
      "execution_count": null,
      "metadata": {
        "id": "ZUZ_xKpMTZGc"
      },
      "outputs": [],
      "source": []
    },
    {
      "cell_type": "code",
      "execution_count": null,
      "metadata": {
        "id": "vYsAGb4wTZGc"
      },
      "outputs": [],
      "source": [
        "# 4. Quantidade de pacotes relacionados a HTTP\n"
      ]
    },
    {
      "cell_type": "code",
      "execution_count": null,
      "metadata": {
        "id": "nKnjUlBpTZGc"
      },
      "outputs": [],
      "source": [
        "packets[8175].show()"
      ]
    },
    {
      "cell_type": "code",
      "execution_count": null,
      "metadata": {
        "id": "F-2xAz10TZGc",
        "colab": {
          "base_uri": "https://localhost:8080/"
        },
        "outputId": "662f8a98-2418-4420-ada5-a160c915f4d9"
      },
      "outputs": [
        {
          "output_type": "stream",
          "name": "stdout",
          "text": [
            "172\n"
          ]
        }
      ],
      "source": [
        "\n",
        "http = 0\n",
        "\n",
        "for pkt in packets:\n",
        "    if TCP in pkt and pkt[TCP].dport == 8080:\n",
        "        http += 1\n",
        "\n",
        "print(http)\n"
      ]
    },
    {
      "cell_type": "code",
      "execution_count": null,
      "metadata": {
        "id": "_evRI3zRTZGc"
      },
      "outputs": [],
      "source": [
        "# 5. Quantidade de queries HTTP get\n"
      ]
    },
    {
      "cell_type": "code",
      "execution_count": null,
      "metadata": {
        "id": "hBkcasjzTZGd"
      },
      "outputs": [],
      "source": []
    },
    {
      "cell_type": "code",
      "execution_count": null,
      "metadata": {
        "id": "TIinIJEYTZGd"
      },
      "outputs": [],
      "source": []
    },
    {
      "cell_type": "code",
      "execution_count": null,
      "metadata": {
        "id": "0fL80pqnTZGd"
      },
      "outputs": [],
      "source": [
        "# 6. Quantidade de novas conexões SSH\n"
      ]
    },
    {
      "cell_type": "code",
      "execution_count": null,
      "metadata": {
        "id": "JPpssGCBTZGd"
      },
      "outputs": [],
      "source": []
    },
    {
      "cell_type": "code",
      "execution_count": null,
      "metadata": {
        "id": "FD764IdTTZGd"
      },
      "outputs": [],
      "source": []
    },
    {
      "cell_type": "code",
      "execution_count": null,
      "metadata": {
        "id": "2fS7rvcrTZGd"
      },
      "outputs": [],
      "source": [
        "# 7. Quantidade de requisições DNS\n"
      ]
    },
    {
      "cell_type": "code",
      "execution_count": null,
      "metadata": {
        "id": "pjHl8AQOTZGd",
        "colab": {
          "base_uri": "https://localhost:8080/"
        },
        "outputId": "fbbe924f-aa2b-45a4-94ae-4a09b67db22b"
      },
      "outputs": [
        {
          "output_type": "execute_result",
          "data": {
            "text/plain": [
              "970"
            ]
          },
          "metadata": {},
          "execution_count": 66
        }
      ],
      "source": [
        "dns=0\n",
        "\n",
        "for pkt in packets:\n",
        "  if DNS in pkt:\n",
        "    if pkt[DNS].qr == 0:\n",
        "      dns+=1\n",
        "dns"
      ]
    },
    {
      "cell_type": "code",
      "execution_count": null,
      "metadata": {
        "id": "-pcWF_09TZGd"
      },
      "outputs": [],
      "source": []
    },
    {
      "cell_type": "code",
      "execution_count": null,
      "metadata": {
        "id": "74z4jttpTZGd"
      },
      "outputs": [],
      "source": [
        "# 8. Usuários logados em sessão telnet\n"
      ]
    },
    {
      "cell_type": "code",
      "execution_count": null,
      "metadata": {
        "id": "2B29kRdGTZGl"
      },
      "outputs": [],
      "source": []
    },
    {
      "cell_type": "code",
      "execution_count": null,
      "metadata": {
        "id": "BJzGfvIrTZGl",
        "colab": {
          "base_uri": "https://localhost:8080/"
        },
        "outputId": "411d76ce-0742-4512-ee2f-02251312b48d"
      },
      "outputs": [
        {
          "output_type": "stream",
          "name": "stdout",
          "text": [
            "###[ Raw ]### \n",
            "  load      = 'c'\n",
            "\n"
          ]
        }
      ],
      "source": [
        "packets[23368]['Raw'].show()"
      ]
    },
    {
      "cell_type": "code",
      "execution_count": null,
      "metadata": {
        "id": "EeFBhCS8TZGl"
      },
      "outputs": [],
      "source": [
        "# 9. Quantidade de protocolos de aplicação distintos\n"
      ]
    },
    {
      "cell_type": "code",
      "execution_count": null,
      "metadata": {
        "id": "SBwdqODdTZGl"
      },
      "outputs": [],
      "source": []
    },
    {
      "cell_type": "code",
      "execution_count": null,
      "metadata": {
        "id": "yhYXdxQaTZGl"
      },
      "outputs": [],
      "source": []
    },
    {
      "cell_type": "code",
      "execution_count": null,
      "metadata": {
        "id": "WsogOwHOTZGl"
      },
      "outputs": [],
      "source": [
        "# 10. Ataques de rede"
      ]
    },
    {
      "cell_type": "code",
      "execution_count": null,
      "metadata": {
        "id": "JpVtDlLxTZGl"
      },
      "outputs": [],
      "source": []
    },
    {
      "cell_type": "code",
      "execution_count": null,
      "metadata": {
        "id": "nWA95m4_TZGl"
      },
      "outputs": [],
      "source": []
    },
    {
      "cell_type": "markdown",
      "metadata": {
        "id": "qTZxDMf5TZGm"
      },
      "source": [
        "### Pratica 2 - Visualização\n",
        "\n",
        "Considerando o PCAP (/home/dados/ParsePCAP/sample.pcapng), gere os gráficos relacionados as seguintes informações\n",
        "\n",
        "1. Gráfico com a relação entre ARP Request vs. ARP Reply\n",
        "2. Gráfico com a relação entre SYN vs. SYN/ACK\n",
        "3. Gráfico com a relação entre a quantidade de mensagens ICMP vs. TCP vs. UDP\n",
        "4. Histograma do tamanho das conexões HTTP\n",
        "5. Gráfico com a quantidade de mensagens por protocolo de aplicação\n",
        "6. Gráfico com a quantidade de DNS queries efetuadas por IP\n",
        "7. Histograma do tamanho das mensagens de DNS queries\n",
        "8. Histograma do tamanho das mensagens de ICMP\n",
        "9. Gráfico com a ocorrencia de cada protocolo de aplicação\n",
        "10. Gráfico com a ocorrencia dos caracteres (0 a 255) no payload de comunicações HTTP\n",
        "11. Gráfico com a ocorrencia dos caracteres (0 a 255) no payload de comunicações SSH"
      ]
    },
    {
      "cell_type": "code",
      "execution_count": null,
      "metadata": {
        "id": "NjYsAzUtTZGm"
      },
      "outputs": [],
      "source": [
        "import os\n",
        "from scapy.all import *\n",
        "\n",
        "packets = sniff(offline='/content/sample.pcapng')"
      ]
    },
    {
      "cell_type": "code",
      "execution_count": null,
      "metadata": {
        "id": "qIEXkXuITZGm"
      },
      "outputs": [],
      "source": [
        "# 1. Gráfico com a relação entre ARP Request vs. ARP Reply\n",
        "\n"
      ]
    },
    {
      "cell_type": "code",
      "execution_count": null,
      "metadata": {
        "id": "5rRhYlWtTZGm",
        "colab": {
          "base_uri": "https://localhost:8080/",
          "height": 447
        },
        "outputId": "a86381f7-5800-4ef0-cee0-e66a7fb1d894"
      },
      "outputs": [
        {
          "output_type": "execute_result",
          "data": {
            "text/plain": [
              "<BarContainer object of 2 artists>"
            ]
          },
          "metadata": {},
          "execution_count": 41
        },
        {
          "output_type": "display_data",
          "data": {
            "text/plain": [
              "<Figure size 640x480 with 1 Axes>"
            ],
            "image/png": "[encoded data removed]"
          },
          "metadata": {}
        }
      ],
      "source": [
        "import matplotlib.pyplot as plt\n",
        "\n",
        "\n",
        "req=0\n",
        "rep=0\n",
        "for pkt in packets:\n",
        "  if ARP in pkt:\n",
        "    if pkt.op == 1:\n",
        "      req+=1\n",
        "    else:\n",
        "      rep+=1\n",
        "plt.bar(['Request','Reply'],[req,rep])\n"
      ]
    },
    {
      "cell_type": "code",
      "execution_count": null,
      "metadata": {
        "id": "b3jSL9hQTZGm"
      },
      "outputs": [],
      "source": []
    },
    {
      "cell_type": "code",
      "execution_count": null,
      "metadata": {
        "id": "WAqpL6KtTZGm"
      },
      "outputs": [],
      "source": [
        "# 2. Gráfico com a relação entre SYN vs. SYN/ACK\n"
      ]
    },
    {
      "cell_type": "code",
      "execution_count": null,
      "metadata": {
        "id": "e9ZeRwJgTZGm",
        "colab": {
          "base_uri": "https://localhost:8080/",
          "height": 447
        },
        "outputId": "b56eb725-a80c-4205-aa39-d002ca84db43"
      },
      "outputs": [
        {
          "output_type": "stream",
          "name": "stdout",
          "text": [
            "373 312\n"
          ]
        },
        {
          "output_type": "display_data",
          "data": {
            "text/plain": [
              "<Figure size 640x480 with 1 Axes>"
            ],
            "image/png": "[encoded data removed]"
          },
          "metadata": {}
        }
      ],
      "source": [
        "import matplotlib.pyplot as plt\n",
        "\n",
        "syn=0\n",
        "syn_ac=0\n",
        "\n",
        "for pkt in packets:\n",
        "  if TCP in pkt:\n",
        "    if pkt[TCP].flags == 'S':\n",
        "      syn+=1\n",
        "    elif pkt[TCP].flags == 'SA':\n",
        "      syn_ac+=1\n",
        "\n",
        "plt.bar(['SYN','SYN/ACK'],[syn,syn_ac])"
      ]
    },
    {
      "cell_type": "code",
      "execution_count": null,
      "metadata": {
        "id": "5Kqg0pzDTZGm"
      },
      "outputs": [],
      "source": []
    },
    {
      "cell_type": "code",
      "execution_count": null,
      "metadata": {
        "id": "Dz-wpcL0TZGm"
      },
      "outputs": [],
      "source": [
        "# 3. Gráfico com a relação entre a quantidade de mensagens ICMP vs. TCP vs. UDP\n"
      ]
    },
    {
      "cell_type": "code",
      "execution_count": null,
      "metadata": {
        "id": "yqOLLdBSTZGm",
        "colab": {
          "base_uri": "https://localhost:8080/",
          "height": 465
        },
        "outputId": "0078c37e-300c-4444-d441-e6f554292219"
      },
      "outputs": [
        {
          "output_type": "stream",
          "name": "stdout",
          "text": [
            "8374 17442 2447\n"
          ]
        },
        {
          "output_type": "execute_result",
          "data": {
            "text/plain": [
              "<BarContainer object of 3 artists>"
            ]
          },
          "metadata": {},
          "execution_count": 35
        },
        {
          "output_type": "display_data",
          "data": {
            "text/plain": [
              "<Figure size 640x480 with 1 Axes>"
            ],
            "image/png": "[encoded data removed]"
          },
          "metadata": {}
        }
      ],
      "source": [
        "import matplotlib.pyplot as plt\n",
        "\n",
        "tcp=0\n",
        "udp=0\n",
        "icmp=0\n",
        "for pkt in packets:\n",
        "  if TCP in pkt:\n",
        "    tcp +=1\n",
        "  elif UDP in pkt:\n",
        "    udp+=1\n",
        "  elif ICMP in pkt:\n",
        "    icmp+=1\n",
        "print(tcp,udp,icmp)\n",
        "\n",
        "plt.bar(['TCP','UDP','ICMP'],[tcp,udp,icmp])\n"
      ]
    },
    {
      "cell_type": "code",
      "execution_count": null,
      "metadata": {
        "id": "R2ccz98BTZGm"
      },
      "outputs": [],
      "source": []
    },
    {
      "cell_type": "code",
      "execution_count": null,
      "metadata": {
        "id": "u6MZLNT1TZGn"
      },
      "outputs": [],
      "source": [
        "# 4. Histograma do tamanho das conexões HTTP\n"
      ]
    },
    {
      "cell_type": "code",
      "execution_count": null,
      "metadata": {
        "id": "PYQ9p6K8TZGn",
        "colab": {
          "base_uri": "https://localhost:8080/",
          "height": 499
        },
        "outputId": "6eb947d6-b45f-44de-e6b6-53167b6cc61b"
      },
      "outputs": [
        {
          "output_type": "execute_result",
          "data": {
            "text/plain": [
              "(array([251.,   4.,   9.,  12.,   8.,   1.,   3.,   3.,  14.,   9.]),\n",
              " array([ 54. , 123.3, 192.6, 261.9, 331.2, 400.5, 469.8, 539.1, 608.4,\n",
              "        677.7, 747. ]),\n",
              " <BarContainer object of 10 artists>)"
            ]
          },
          "metadata": {},
          "execution_count": 62
        },
        {
          "output_type": "display_data",
          "data": {
            "text/plain": [
              "<Figure size 640x480 with 1 Axes>"
            ],
            "image/png": "[encoded data removed]"
          },
          "metadata": {}
        }
      ],
      "source": [
        "import matplotlib.pyplot as plt\n",
        "\n",
        "http=0\n",
        "tam_pkt=[]\n",
        "for pkt in packets:\n",
        "  if TCP in pkt:\n",
        "    if pkt[TCP].dport == 80 or pkt[TCP].dport == 8080:\n",
        "      tam_pkt.append(len(pkt))\n",
        "      http+=1\n",
        "\n",
        "plt.hist(tam_pkt)\n"
      ]
    },
    {
      "cell_type": "code",
      "execution_count": null,
      "metadata": {
        "id": "kVPQO8o0TZGn"
      },
      "outputs": [],
      "source": []
    },
    {
      "cell_type": "code",
      "execution_count": null,
      "metadata": {
        "id": "Wn2RAdNlTZGn"
      },
      "outputs": [],
      "source": [
        "# 5. Gráfico com a quantidade de mensagens por protocolo de aplicação\n"
      ]
    },
    {
      "cell_type": "code",
      "execution_count": null,
      "metadata": {
        "id": "O-TfTgz0TZGn"
      },
      "outputs": [],
      "source": []
    },
    {
      "cell_type": "code",
      "execution_count": null,
      "metadata": {
        "id": "CInnre_pTZGn"
      },
      "outputs": [],
      "source": []
    },
    {
      "cell_type": "code",
      "execution_count": null,
      "metadata": {
        "id": "kw7sdFSnTZGn"
      },
      "outputs": [],
      "source": [
        "# 6. Gráfico com a quantidade de DNS queries efetuadas por IP\n"
      ]
    },
    {
      "cell_type": "code",
      "execution_count": null,
      "metadata": {
        "id": "1k2BCyp3TZGn"
      },
      "outputs": [],
      "source": []
    },
    {
      "cell_type": "code",
      "execution_count": null,
      "metadata": {
        "id": "6BTb3HVbTZGn"
      },
      "outputs": [],
      "source": []
    },
    {
      "cell_type": "code",
      "execution_count": null,
      "metadata": {
        "id": "77pqvahRTZGn"
      },
      "outputs": [],
      "source": [
        "# 7. Histograma do tamanho das mensagens de DNS queries\n"
      ]
    },
    {
      "cell_type": "code",
      "execution_count": null,
      "metadata": {
        "id": "QQFCW1Y7TZGn"
      },
      "outputs": [],
      "source": []
    },
    {
      "cell_type": "code",
      "execution_count": null,
      "metadata": {
        "id": "HyXxjAIBTZGn"
      },
      "outputs": [],
      "source": []
    },
    {
      "cell_type": "code",
      "execution_count": null,
      "metadata": {
        "id": "WVho_IRPTZGn"
      },
      "outputs": [],
      "source": [
        "# 8. Histograma do tamanho das mensagens de ICMP\n"
      ]
    },
    {
      "cell_type": "code",
      "execution_count": null,
      "metadata": {
        "id": "BnCqA7kyTZGn",
        "colab": {
          "base_uri": "https://localhost:8080/",
          "height": 517
        },
        "outputId": "0720ccc5-9543-425a-c15a-51f8c3fe8537"
      },
      "outputs": [
        {
          "output_type": "execute_result",
          "data": {
            "text/plain": [
              "(array([ 417.,  110., 1891.,   12.,    0.,    0.,   15.,    0.,    0.,\n",
              "           2.]),\n",
              " array([ 60. ,  79.4,  98.8, 118.2, 137.6, 157. , 176.4, 195.8, 215.2,\n",
              "        234.6, 254. ]),\n",
              " <BarContainer object of 10 artists>)"
            ]
          },
          "metadata": {},
          "execution_count": 65
        },
        {
          "output_type": "display_data",
          "data": {
            "text/plain": [
              "<Figure size 640x480 with 1 Axes>"
            ],
            "image/png": "[encoded data removed]"
          },
          "metadata": {}
        }
      ],
      "source": [
        "icmp_tam=[]\n",
        "\n",
        "for pkt in packets:\n",
        "  if ICMP in pkt:\n",
        "    icmp_tam.append(len(pkt))\n",
        "\n",
        "\n",
        "plt.hist(icmp_tam)"
      ]
    },
    {
      "cell_type": "code",
      "execution_count": null,
      "metadata": {
        "id": "hmUUW5j2TZGo"
      },
      "outputs": [],
      "source": []
    },
    {
      "cell_type": "code",
      "execution_count": null,
      "metadata": {
        "id": "65vejKd7TZGo"
      },
      "outputs": [],
      "source": [
        "# 9. Gráfico com a ocorrencia de cada protocolo de aplicação"
      ]
    },
    {
      "cell_type": "code",
      "execution_count": null,
      "metadata": {
        "id": "ZpdN5whkTZGo"
      },
      "outputs": [],
      "source": []
    },
    {
      "cell_type": "code",
      "execution_count": null,
      "metadata": {
        "id": "hLifKe94TZGo"
      },
      "outputs": [],
      "source": []
    }
  ],
  "metadata": {
    "kernelspec": {
      "display_name": "Python 3 (ipykernel)",
      "language": "python",
      "name": "python3"
    },
    "language_info": {
      "codemirror_mode": {
        "name": "ipython",
        "version": 3
      },
      "file_extension": ".py",
      "mimetype": "text/x-python",
      "name": "python",
      "nbconvert_exporter": "python",
      "pygments_lexer": "ipython3",
      "version": "3.10.9"
    },
    "colab": {
      "provenance": []
    }
  },
  "nbformat": 4,
  "nbformat_minor": 0
}